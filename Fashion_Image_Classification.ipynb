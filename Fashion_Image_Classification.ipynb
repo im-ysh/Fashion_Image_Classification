{
  "nbformat": 4,
  "nbformat_minor": 0,
  "metadata": {
    "colab": {
      "provenance": [],
      "gpuType": "T4",
      "mount_file_id": "1NhcgTg3_YKYARxwO32uQmXJ1Gz1nhClv",
      "authorship_tag": "ABX9TyOOtHxto71PnJIPshn+NPzJ",
      "include_colab_link": true
    },
    "kernelspec": {
      "name": "python3",
      "display_name": "Python 3"
    },
    "language_info": {
      "name": "python"
    },
    "accelerator": "GPU"
  },
  "cells": [
    {
      "cell_type": "markdown",
      "metadata": {
        "id": "view-in-github",
        "colab_type": "text"
      },
      "source": [
        "<a href=\"https://colab.research.google.com/github/im-ysh/Fashion_Image_Classification/blob/main/Fashion_Image_Classification.ipynb\" target=\"_parent\"><img src=\"https://colab.research.google.com/assets/colab-badge.svg\" alt=\"Open In Colab\"/></a>"
      ]
    },
    {
      "cell_type": "code",
      "execution_count": 1,
      "metadata": {
        "id": "zx_oUEiWsHvg"
      },
      "outputs": [],
      "source": [
        "import torch\n",
        "import numpy as np\n",
        "from torch.utils.data import Dataset, DataLoader\n",
        "from torch import nn\n",
        "from torchvision import transforms\n",
        "import matplotlib.pyplot as plt\n",
        "import torchvision\n",
        "import torch.nn.functional as F\n",
        "from torch.autograd import Variable\n",
        "from torch import optim\n"
      ]
    },
    {
      "cell_type": "code",
      "source": [
        "device = 'cuda' if torch.cuda.is_available() else 'cpu'"
      ],
      "metadata": {
        "id": "qjBHbZhssLsU"
      },
      "execution_count": 2,
      "outputs": []
    },
    {
      "cell_type": "code",
      "source": [
        "trans = transforms.Compose([\n",
        "    transforms.ToTensor(), transforms.Normalize((0.5), (0.5))\n",
        "])\n",
        "\n",
        "dataset = torchvision.datasets.FashionMNIST('.data/', download=True, train=True, transform=trans)"
      ],
      "metadata": {
        "colab": {
          "base_uri": "https://localhost:8080/"
        },
        "id": "Z3NxtT0rsNbB",
        "outputId": "1b4073f5-d627-4f39-f3eb-8974cd9ba6fc"
      },
      "execution_count": 3,
      "outputs": [
        {
          "output_type": "stream",
          "name": "stderr",
          "text": [
            "100%|██████████| 26.4M/26.4M [00:03<00:00, 7.94MB/s]\n",
            "100%|██████████| 29.5k/29.5k [00:00<00:00, 133kB/s]\n",
            "100%|██████████| 4.42M/4.42M [00:01<00:00, 2.48MB/s]\n",
            "100%|██████████| 5.15k/5.15k [00:00<00:00, 15.7MB/s]\n"
          ]
        }
      ]
    },
    {
      "cell_type": "code",
      "source": [
        "dataset.class_to_idx"
      ],
      "metadata": {
        "colab": {
          "base_uri": "https://localhost:8080/"
        },
        "id": "DPLgdMP9sO94",
        "outputId": "5409cdff-2619-41dd-ddf2-093147c853b4"
      },
      "execution_count": 4,
      "outputs": [
        {
          "output_type": "execute_result",
          "data": {
            "text/plain": [
              "{'T-shirt/top': 0,\n",
              " 'Trouser': 1,\n",
              " 'Pullover': 2,\n",
              " 'Dress': 3,\n",
              " 'Coat': 4,\n",
              " 'Sandal': 5,\n",
              " 'Shirt': 6,\n",
              " 'Sneaker': 7,\n",
              " 'Bag': 8,\n",
              " 'Ankle boot': 9}"
            ]
          },
          "metadata": {},
          "execution_count": 4
        }
      ]
    },
    {
      "cell_type": "code",
      "source": [
        "classes = list(dataset.class_to_idx.keys())"
      ],
      "metadata": {
        "id": "p4JbgPyqsRnl"
      },
      "execution_count": 5,
      "outputs": []
    },
    {
      "cell_type": "code",
      "source": [
        "dataloader = DataLoader(dataset, batch_size=128, shuffle=True)"
      ],
      "metadata": {
        "id": "n_H5pt4_sTiO"
      },
      "execution_count": 6,
      "outputs": []
    },
    {
      "cell_type": "code",
      "source": [
        "fig, axes = plt.subplots(1,5, figsize=(10,2))\n",
        "\n",
        "for ax in axes.ravel():\n",
        "  r = next(iter(dataloader))\n",
        "  ax.imshow(r[0].numpy()[1].reshape(28,28), cmap='bone_r')\n",
        "  ax.set_title(classes[r[1].numpy()[1]])\n",
        "  ax.axis('off')\n"
      ],
      "metadata": {
        "colab": {
          "base_uri": "https://localhost:8080/",
          "height": 192
        },
        "id": "Mzd3x0JAsVTq",
        "outputId": "a97c6bf0-96c3-4c0c-f4d3-4b3a0de59d4e"
      },
      "execution_count": 7,
      "outputs": [
        {
          "output_type": "display_data",
          "data": {
            "text/plain": [
              "<Figure size 1000x200 with 5 Axes>"
            ],
            "image/png": "[encoded data removed]"
          },
          "metadata": {}
        }
      ]
    },
    {
      "cell_type": "code",
      "source": [
        "class VAE(nn.Module):\n",
        "  def __init__(self):\n",
        "    super().__init__()\n",
        "    self.input_layer = nn.Linear(784, 400)\n",
        "    self.mu = nn.Linear(400, 20)\n",
        "    self.sigma = nn.Linear(400, 20)\n",
        "    self.upscale_sample = nn.Linear(20,400)\n",
        "    self.output_layer = nn.Linear(400, 784)\n",
        "\n",
        "  def encode(self, x):\n",
        "    x = F.relu(self.input_layer(x))\n",
        "    return self.mu(x), self.sigma(x)\n",
        "\n",
        "  def parametric(self, mu, sigma):\n",
        "    std = sigma.exp()\n",
        "\n",
        "    if torch.cuda.is_available():\n",
        "      sample = torch.cuda.FloatTensor(mu.size()).normal_()\n",
        "    else:\n",
        "      sample = torch.FloatTensor(mu.size()).normal_()\n",
        "\n",
        "    sample = Variable(sample)\n",
        "\n",
        "    return sample.mul(std).add(mu)\n",
        "\n",
        "  def decode(self, sample):\n",
        "    x = F.relu(self.upscale_sample(sample))\n",
        "    return torch.sigmoid(self.output_layer(x))\n",
        "\n",
        "\n",
        "  def forward(self, x):\n",
        "    mu, sigma = self.encode(x)\n",
        "    sample = self.parametric(mu, sigma)\n",
        "\n",
        "    return self.decode(sample), mu, sigma"
      ],
      "metadata": {
        "id": "bs0g2vsosXIE"
      },
      "execution_count": 8,
      "outputs": []
    },
    {
      "cell_type": "code",
      "source": [
        "model = VAE().to(device)"
      ],
      "metadata": {
        "id": "2ACRhNAwsY-X"
      },
      "execution_count": 9,
      "outputs": []
    },
    {
      "cell_type": "code",
      "source": [
        "model"
      ],
      "metadata": {
        "colab": {
          "base_uri": "https://localhost:8080/"
        },
        "id": "I0B72YHssbBA",
        "outputId": "02969a6b-4552-4796-b274-c30abbbf9910"
      },
      "execution_count": 10,
      "outputs": [
        {
          "output_type": "execute_result",
          "data": {
            "text/plain": [
              "VAE(\n",
              "  (input_layer): Linear(in_features=784, out_features=400, bias=True)\n",
              "  (mu): Linear(in_features=400, out_features=20, bias=True)\n",
              "  (sigma): Linear(in_features=400, out_features=20, bias=True)\n",
              "  (upscale_sample): Linear(in_features=20, out_features=400, bias=True)\n",
              "  (output_layer): Linear(in_features=400, out_features=784, bias=True)\n",
              ")"
            ]
          },
          "metadata": {},
          "execution_count": 10
        }
      ]
    },
    {
      "cell_type": "code",
      "source": [
        "def loss_function(reconstructed, real, mu, sigma):\n",
        "  image_loss = nn.MSELoss(reduction='sum')(reconstructed, real)\n",
        "\n",
        "  kl_loss = -0.5*(torch.sum(1+sigma - mu.pow(2) - sigma.exp()))\n",
        "\n",
        "  return image_loss, kl_loss"
      ],
      "metadata": {
        "id": "W4MVKzphscg_"
      },
      "execution_count": 11,
      "outputs": []
    },
    {
      "cell_type": "code",
      "source": [
        "optimizer = optim.Adam(model.parameters(), lr=1e-3)"
      ],
      "metadata": {
        "id": "pI6fq4YnseOQ"
      },
      "execution_count": 12,
      "outputs": []
    },
    {
      "cell_type": "code",
      "source": [
        "epochs = 10\n",
        "\n",
        "for epoch in range(epochs):\n",
        "    model.train()\n",
        "    print(f\"Epoch: {epoch+1}/{epochs}\")\n",
        "\n",
        "    train_loss_im, train_loss_kl = 0, 0\n",
        "    correct_reconstructions = 0\n",
        "    total_samples = 0\n",
        "\n",
        "    for b, data in enumerate(dataloader):\n",
        "        img, _ = data\n",
        "        img = img.view(img.size(0), -1)\n",
        "        img = img.to(device)\n",
        "\n",
        "        optimizer.zero_grad()\n",
        "\n",
        "        # Forward pass\n",
        "        recons, mu, sigma = model(img)\n",
        "\n",
        "        # Compute losses\n",
        "        loss_im, loss_kl = loss_function(recons, img, mu, sigma)\n",
        "        loss = loss_im + loss_kl\n",
        "\n",
        "        # Backward pass and optimization\n",
        "        loss.backward()\n",
        "        optimizer.step()\n",
        "\n",
        "        # Accumulate losses\n",
        "        train_loss_im += loss_im.item()\n",
        "        train_loss_kl += loss_kl.item()\n",
        "\n",
        "        # Compute accuracy (assuming reconstruction threshold)\n",
        "        predicted = (recons > 0.5).float()  # Assuming pixel values are normalized between 0 and 1\n",
        "        correct_reconstructions += (predicted == img).sum().item()\n",
        "        total_samples += img.numel()\n",
        "\n",
        "    # Compute average loss and pseudo-accuracy\n",
        "    avg_loss_im = train_loss_im / len(dataloader)\n",
        "    avg_loss_kl = train_loss_kl / len(dataloader)\n",
        "    accuracy = 100 * correct_reconstructions / total_samples\n",
        "\n",
        "    print(f\"Epoch {epoch+1}: Loss (Reconstruction): {avg_loss_im:.4f}, KL Loss: {avg_loss_kl:.4f}, Accuracy: {accuracy:.2f}%\")\n"
      ],
      "metadata": {
        "colab": {
          "base_uri": "https://localhost:8080/"
        },
        "id": "GrS5lBXisf4X",
        "outputId": "fcfe564f-dc95-40a5-ea89-537a5fe4c4b9"
      },
      "execution_count": 13,
      "outputs": [
        {
          "output_type": "stream",
          "name": "stdout",
          "text": [
            "Epoch: 1/10\n"
          ]
        },
        {
          "output_type": "stream",
          "name": "stderr",
          "text": [
            "<ipython-input-8-607ecad2f797>:18: UserWarning: The torch.cuda.*DtypeTensor constructors are no longer recommended. It's best to use methods such as torch.tensor(data, dtype=*, device='cuda') to create tensors. (Triggered internally at /pytorch/torch/csrc/tensor/python_tensor.cpp:78.)\n",
            "  sample = torch.cuda.FloatTensor(mu.size()).normal_()\n"
          ]
        },
        {
          "output_type": "stream",
          "name": "stdout",
          "text": [
            "Epoch 1: Loss (Reconstruction): 64354.4279, KL Loss: 1144.6815, Accuracy: 0.25%\n",
            "Epoch: 2/10\n",
            "Epoch 2: Loss (Reconstruction): 61393.5874, KL Loss: 879.7160, Accuracy: 0.40%\n",
            "Epoch: 3/10\n",
            "Epoch 3: Loss (Reconstruction): 60831.0737, KL Loss: 886.2118, Accuracy: 0.46%\n",
            "Epoch: 4/10\n",
            "Epoch 4: Loss (Reconstruction): 60531.1483, KL Loss: 887.6215, Accuracy: 0.49%\n",
            "Epoch: 5/10\n",
            "Epoch 5: Loss (Reconstruction): 60354.8095, KL Loss: 886.9803, Accuracy: 0.51%\n",
            "Epoch: 6/10\n",
            "Epoch 6: Loss (Reconstruction): 60229.3319, KL Loss: 884.9957, Accuracy: 0.53%\n",
            "Epoch: 7/10\n",
            "Epoch 7: Loss (Reconstruction): 60131.2426, KL Loss: 884.1827, Accuracy: 0.54%\n",
            "Epoch: 8/10\n",
            "Epoch 8: Loss (Reconstruction): 60054.1917, KL Loss: 884.8547, Accuracy: 0.55%\n",
            "Epoch: 9/10\n",
            "Epoch 9: Loss (Reconstruction): 59992.6547, KL Loss: 886.1514, Accuracy: 0.56%\n",
            "Epoch: 10/10\n",
            "Epoch 10: Loss (Reconstruction): 59945.6873, KL Loss: 887.7741, Accuracy: 0.57%\n"
          ]
        }
      ]
    },
    {
      "cell_type": "code",
      "source": [
        "model.eval()\n",
        "\n",
        "ev_img = next(iter(dataloader))[0].numpy()[1].reshape(28,28)\n",
        "\n",
        "ev_img_r = ev_img.ravel()\n",
        "# model= dnn.read(mm.weight,mm.cfg)\n",
        "\n",
        "ev_mu, ev_sigma = model.encode(torch.from_numpy(ev_img_r).cuda())\n",
        "\n",
        "ev_param_tensor = model.parametric(ev_mu, ev_sigma)\n",
        "\n",
        "ev_out = model.decode(ev_param_tensor).cpu().detach().numpy().reshape(28,28)\n",
        "\n",
        "fig, ax = plt.subplots(1,2)\n",
        "\n",
        "ax[0].set_title('Original Image')\n",
        "\n",
        "ax[0].imshow(ev_img, cmap='bone_r')\n",
        "\n",
        "ax[1].set_title('Reconstructed Image')\n",
        "\n",
        "ax[1].imshow(ev_out, cmap='bone_r')\n",
        "\n",
        "plt.plot()"
      ],
      "metadata": {
        "colab": {
          "base_uri": "https://localhost:8080/",
          "height": 325
        },
        "id": "-PtPHNoQshP7",
        "outputId": "a78c2685-b439-4070-f024-3d8d4151be52"
      },
      "execution_count": 14,
      "outputs": [
        {
          "output_type": "execute_result",
          "data": {
            "text/plain": [
              "[]"
            ]
          },
          "metadata": {},
          "execution_count": 14
        },
        {
          "output_type": "display_data",
          "data": {
            "text/plain": [
              "<Figure size 640x480 with 2 Axes>"
            ],
            "image/png": "[encoded data removed]"
          },
          "metadata": {}
        }
      ]
    },
    {
      "cell_type": "code",
      "source": [
        "from google.colab import drive\n",
        "drive.mount('/content/drive')"
      ],
      "metadata": {
        "colab": {
          "base_uri": "https://localhost:8080/"
        },
        "id": "fsLQ5R0QtRjJ",
        "outputId": "71a7ce0e-7e29-48cd-f13a-3ff18823eff7"
      },
      "execution_count": 15,
      "outputs": [
        {
          "output_type": "stream",
          "name": "stdout",
          "text": [
            "Drive already mounted at /content/drive; to attempt to forcibly remount, call drive.mount(\"/content/drive\", force_remount=True).\n"
          ]
        }
      ]
    }
  ]
}